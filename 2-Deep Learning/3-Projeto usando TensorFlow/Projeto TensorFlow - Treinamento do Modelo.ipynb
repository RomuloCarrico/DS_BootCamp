{
 "cells": [
  {
   "cell_type": "code",
   "execution_count": 1,
   "id": "ea30b2ca",
   "metadata": {},
   "outputs": [],
   "source": [
    "import tensorflow as tf\n",
    "import numpy as np"
   ]
  },
  {
   "cell_type": "code",
   "execution_count": 2,
   "id": "39b3f400",
   "metadata": {},
   "outputs": [],
   "source": [
    "npz_train = np.load('Audiobooks_data_train.npz')\n",
    "train_inputs = npz_train['inputs'].astype(float)\n",
    "train_targets = npz_train['targets'].astype(int)\n",
    "\n",
    "npz_validation = np.load('Audiobooks_data_validation.npz')\n",
    "validation_inputs = npz_validation['inputs'].astype(float)\n",
    "validation_targets = npz_validation['targets'].astype(int)\n",
    "\n",
    "npz_test = np.load('Audiobooks_data_test.npz')\n",
    "test_inputs = npz_test['inputs'].astype(float)\n",
    "test_targets = npz_test['targets'].astype(int)"
   ]
  },
  {
   "cell_type": "code",
   "execution_count": 13,
   "id": "64e519b7",
   "metadata": {},
   "outputs": [
    {
     "name": "stdout",
     "output_type": "stream",
     "text": [
      "Epoch 1/100\n",
      "36/36 - 1s - loss: 0.6414 - accuracy: 0.6709 - val_loss: 0.5517 - val_accuracy: 0.8166 - 750ms/epoch - 21ms/step\n",
      "Epoch 2/100\n",
      "36/36 - 0s - loss: 0.4773 - accuracy: 0.8430 - val_loss: 0.3694 - val_accuracy: 0.8792 - 53ms/epoch - 1ms/step\n",
      "Epoch 3/100\n",
      "36/36 - 0s - loss: 0.3490 - accuracy: 0.8779 - val_loss: 0.2933 - val_accuracy: 0.8949 - 63ms/epoch - 2ms/step\n",
      "Epoch 4/100\n",
      "36/36 - 0s - loss: 0.3138 - accuracy: 0.8843 - val_loss: 0.2736 - val_accuracy: 0.8993 - 71ms/epoch - 2ms/step\n",
      "Epoch 5/100\n",
      "36/36 - 0s - loss: 0.2990 - accuracy: 0.8894 - val_loss: 0.2649 - val_accuracy: 0.9038 - 78ms/epoch - 2ms/step\n",
      "Epoch 6/100\n",
      "36/36 - 0s - loss: 0.2879 - accuracy: 0.8935 - val_loss: 0.2568 - val_accuracy: 0.9105 - 51ms/epoch - 1ms/step\n",
      "Epoch 7/100\n",
      "36/36 - 0s - loss: 0.2794 - accuracy: 0.8947 - val_loss: 0.2483 - val_accuracy: 0.9150 - 54ms/epoch - 2ms/step\n",
      "Epoch 8/100\n",
      "36/36 - 0s - loss: 0.2708 - accuracy: 0.9000 - val_loss: 0.2476 - val_accuracy: 0.9038 - 85ms/epoch - 2ms/step\n",
      "Epoch 9/100\n",
      "36/36 - 0s - loss: 0.2648 - accuracy: 0.8994 - val_loss: 0.2378 - val_accuracy: 0.9239 - 63ms/epoch - 2ms/step\n",
      "Epoch 10/100\n",
      "36/36 - 0s - loss: 0.2607 - accuracy: 0.9028 - val_loss: 0.2319 - val_accuracy: 0.9150 - 65ms/epoch - 2ms/step\n",
      "Epoch 11/100\n",
      "36/36 - 0s - loss: 0.2574 - accuracy: 0.9039 - val_loss: 0.2307 - val_accuracy: 0.9105 - 67ms/epoch - 2ms/step\n",
      "Epoch 12/100\n",
      "36/36 - 0s - loss: 0.2527 - accuracy: 0.9033 - val_loss: 0.2302 - val_accuracy: 0.9150 - 77ms/epoch - 2ms/step\n",
      "Epoch 13/100\n",
      "36/36 - 0s - loss: 0.2495 - accuracy: 0.9070 - val_loss: 0.2268 - val_accuracy: 0.9217 - 67ms/epoch - 2ms/step\n",
      "Epoch 14/100\n",
      "36/36 - 0s - loss: 0.2450 - accuracy: 0.9084 - val_loss: 0.2232 - val_accuracy: 0.9239 - 78ms/epoch - 2ms/step\n",
      "Epoch 15/100\n",
      "36/36 - 0s - loss: 0.2444 - accuracy: 0.9047 - val_loss: 0.2174 - val_accuracy: 0.9239 - 62ms/epoch - 2ms/step\n",
      "Epoch 16/100\n",
      "36/36 - 0s - loss: 0.2420 - accuracy: 0.9081 - val_loss: 0.2237 - val_accuracy: 0.9217 - 74ms/epoch - 2ms/step\n",
      "Epoch 17/100\n",
      "36/36 - 0s - loss: 0.2409 - accuracy: 0.9095 - val_loss: 0.2221 - val_accuracy: 0.9239 - 76ms/epoch - 2ms/step\n"
     ]
    },
    {
     "data": {
      "text/plain": [
       "<keras.callbacks.History at 0x1fa37e30370>"
      ]
     },
     "execution_count": 13,
     "metadata": {},
     "output_type": "execute_result"
    }
   ],
   "source": [
    "input_size = 10\n",
    "output_size = 2\n",
    "hidden_layers_size = 30\n",
    "\n",
    "model = tf.keras.Sequential([\n",
    "                            tf.keras.layers.Dense(hidden_layers_size, activation ='relu'),\n",
    "                            tf.keras.layers.Dense(hidden_layers_size, activation ='tanh'),\n",
    "                            tf.keras.layers.Dense(hidden_layers_size, activation ='sigmoid'),\n",
    "                            tf.keras.layers.Dense(output_size, activation='softmax')\n",
    "                            ])\n",
    "\n",
    "model.compile(optimizer = 'adam', loss = 'sparse_categorical_crossentropy', metrics=['accuracy'])\n",
    "\n",
    "batch_size = 100\n",
    "max_epochs = 100\n",
    "early_stopping = tf.keras.callbacks.EarlyStopping(patience = 2)\n",
    "\n",
    "model.fit(train_inputs,\n",
    "         train_targets,\n",
    "         batch_size = batch_size,\n",
    "         epochs = max_epochs,\n",
    "          callbacks=(early_stopping),\n",
    "         validation_data=(validation_inputs, validation_targets),\n",
    "         verbose=2)"
   ]
  },
  {
   "cell_type": "code",
   "execution_count": 14,
   "id": "67da9027",
   "metadata": {},
   "outputs": [
    {
     "name": "stdout",
     "output_type": "stream",
     "text": [
      "14/14 [==============================] - 0s 1ms/step - loss: 0.2321 - accuracy: 0.9152\n"
     ]
    },
    {
     "data": {
      "text/plain": [
       "[0.2321499139070511, 0.9151785969734192]"
      ]
     },
     "execution_count": 14,
     "metadata": {},
     "output_type": "execute_result"
    }
   ],
   "source": [
    "model.evaluate(test_inputs,test_targets)"
   ]
  },
  {
   "cell_type": "code",
   "execution_count": null,
   "id": "b21b1f2f",
   "metadata": {},
   "outputs": [],
   "source": []
  }
 ],
 "metadata": {
  "kernelspec": {
   "display_name": "Python 3 (ipykernel)",
   "language": "python",
   "name": "python3"
  },
  "language_info": {
   "codemirror_mode": {
    "name": "ipython",
    "version": 3
   },
   "file_extension": ".py",
   "mimetype": "text/x-python",
   "name": "python",
   "nbconvert_exporter": "python",
   "pygments_lexer": "ipython3",
   "version": "3.9.16"
  }
 },
 "nbformat": 4,
 "nbformat_minor": 5
}
