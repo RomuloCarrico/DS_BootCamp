{
 "cells": [
  {
   "cell_type": "code",
   "execution_count": 1,
   "id": "7529c000",
   "metadata": {},
   "outputs": [],
   "source": [
    "import numpy as np\n",
    "import tensorflow as tf\n",
    "import tensorflow_datasets as tfds"
   ]
  },
  {
   "cell_type": "code",
   "execution_count": 2,
   "id": "998089e3",
   "metadata": {},
   "outputs": [],
   "source": [
    "mnist_dataset, mnist_info = tfds.load(name='mnist',with_info = True, as_supervised = True)\n",
    "mnist_train, mnist_test = mnist_dataset['train'], mnist_dataset['test']"
   ]
  },
  {
   "cell_type": "code",
   "execution_count": 3,
   "id": "92ce1e48",
   "metadata": {},
   "outputs": [],
   "source": [
    "\n",
    "num_validation_samples = 0.1 * mnist_info.splits['train'].num_examples\n",
    "num_validation_samples = tf.cast(num_validation_samples, tf.int64)\n",
    "\n",
    "num_test_samples = mnist_info.splits['test'].num_examples\n",
    "num_test_samples = tf.cast(num_test_samples, tf.int64)\n",
    "\n",
    "def scale (image,label):\n",
    "    image = tf.cast(image, tf.float32)\n",
    "    image /= 255.\n",
    "    return image, label\n",
    "\n",
    "scaled_train_and_validation_data = mnist_train.map(scale)\n",
    "test_data = mnist_test.map(scale)"
   ]
  },
  {
   "cell_type": "code",
   "execution_count": 4,
   "id": "c2e1e51c",
   "metadata": {},
   "outputs": [],
   "source": [
    "BUFFER_SIZE = 10000\n",
    "shuffle_train_and_validation_data = scaled_train_and_validation_data.shuffle(BUFFER_SIZE)\n",
    "validation_data = shuffle_train_and_validation_data.take(num_validation_samples)\n",
    "train_data = shuffle_train_and_validation_data.skip(num_test_samples)\n",
    "\n",
    "BATCH_SIZE = 100\n",
    "\n",
    "train_data = train_data.batch(BATCH_SIZE)\n",
    "validation_data = validation_data.batch(num_validation_samples)\n",
    "test_data = test_data.batch(num_test_samples)\n",
    "\n",
    "validation_inputs, validation_target = next(iter(validation_data))"
   ]
  },
  {
   "cell_type": "code",
   "execution_count": 5,
   "id": "e0d8093d",
   "metadata": {},
   "outputs": [],
   "source": [
    "input_size = 784\n",
    "output_size = 10\n",
    "hidden_layer_size = 250\n",
    "\n",
    "model = tf.keras.Sequential([ \n",
    "                            tf.keras.layers.Flatten(input_shape=(28,28,1)),\n",
    "                            tf.keras.layers.Dense(hidden_layer_size, activation='relu'),\n",
    "                            tf.keras.layers.Dense(hidden_layer_size, activation='relu'),    \n",
    "                            tf.keras.layers.Dense(hidden_layer_size, activation='tanh'),  \n",
    "                            tf.keras.layers.Dense(output_size, activation='softmax')\n",
    "                            ])"
   ]
  },
  {
   "cell_type": "code",
   "execution_count": 6,
   "id": "0c1ff43c",
   "metadata": {},
   "outputs": [],
   "source": [
    "model.compile(optimizer='adam', loss='sparse_categorical_crossentropy', metrics=['accuracy'])"
   ]
  },
  {
   "cell_type": "code",
   "execution_count": null,
   "id": "d598362b",
   "metadata": {},
   "outputs": [
    {
     "name": "stdout",
     "output_type": "stream",
     "text": [
      "Epoch 1/100\n",
      "500/500 - 5s - loss: 0.2431 - accuracy: 0.9259 - val_loss: 0.1071 - val_accuracy: 0.9682 - 5s/epoch - 10ms/step\n",
      "Epoch 2/100\n",
      "500/500 - 4s - loss: 0.0951 - accuracy: 0.9698 - val_loss: 0.0977 - val_accuracy: 0.9708 - 4s/epoch - 9ms/step\n",
      "Epoch 3/100\n"
     ]
    }
   ],
   "source": [
    "num_epochs = 100\n",
    "early_stopping = tf.keras.callbacks.EarlyStopping(patience=2)\n",
    "model.fit(train_data, epochs = num_epochs, callbacks=(early_stopping), validation_data = (validation_inputs, validation_target), verbose = 2)"
   ]
  },
  {
   "cell_type": "code",
   "execution_count": null,
   "id": "071b4ecf",
   "metadata": {},
   "outputs": [],
   "source": [
    "# r1(100-2 layers) = 97,48%; r2(200-2 layers)= 98,23%; r3(100-3 layers);\n",
    "# r4(200-5 layers) = 98,02%; r4(sigmoid)=95,85%; r5(relu+tanh)=97,85%\n",
    "# r6(batchsize=10000) = 84,53%; r7(lR=0.0001)=94,47%; r8(LR=0,02)=95,98%\n",
    "\n",
    "## hidden layer size = 250, 2 layers relu, 1 layer tanh"
   ]
  },
  {
   "cell_type": "code",
   "execution_count": null,
   "id": "305fae18",
   "metadata": {},
   "outputs": [],
   "source": [
    "test_loss, test_accuracy = model.evaluate(test_data)"
   ]
  },
  {
   "cell_type": "code",
   "execution_count": null,
   "id": "1f5ad3a0",
   "metadata": {},
   "outputs": [],
   "source": [
    "print('Test loss: {0:.2f}. Test accuracy: {01:.2f}%'.format(test_loss,test_accuracy*100.))"
   ]
  }
 ],
 "metadata": {
  "kernelspec": {
   "display_name": "Python 3 (ipykernel)",
   "language": "python",
   "name": "python3"
  },
  "language_info": {
   "codemirror_mode": {
    "name": "ipython",
    "version": 3
   },
   "file_extension": ".py",
   "mimetype": "text/x-python",
   "name": "python",
   "nbconvert_exporter": "python",
   "pygments_lexer": "ipython3",
   "version": "3.9.12"
  }
 },
 "nbformat": 4,
 "nbformat_minor": 5
}
